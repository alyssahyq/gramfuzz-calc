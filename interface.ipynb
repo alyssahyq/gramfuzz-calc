{
 "cells": [
  {
   "cell_type": "code",
   "execution_count": 1,
   "metadata": {},
   "outputs": [
    {
     "data": {
      "application/vnd.jupyter.widget-view+json": {
       "model_id": "32764acfe4f74f728ba2f87fab9d4093",
       "version_major": 2,
       "version_minor": 0
      },
      "text/plain": [
       "Box(children=(VBox(children=(Dropdown(description='Benchmark', options=('bc', 'calc'), value='bc'), IntText(va…"
      ]
     },
     "metadata": {},
     "output_type": "display_data"
    }
   ],
   "source": [
    "import pandas as pd\n",
    "from ipywidgets import *\n",
    "import ipywidgets as widgets\n",
    "from fuzzRunner import *\n",
    "import time\n",
    "import _thread\n",
    "import sys\n",
    "\n",
    "\n",
    "benchmarks = ['bc', 'calc']\n",
    "#params = {'current_cycle': 0, 'current_file': 0, 'errors': 0, 'hangs': 0, 'exceptions': 0}\n",
    "\n",
    "def para(Benchmark, Rounds, Files, Timeout):\n",
    "    fuzz_runner = Fuzz_runner(Benchmark, Rounds, Files, Timeout)\n",
    "    start = time.time()\n",
    "    fuzz_runner.run()\n",
    "    print('=======================================================================================')\n",
    "    #display(pd.DataFrame(pd.Series(params)))\n",
    "    print('=======================================================================================')\n",
    "\n",
    "def run_widget():\n",
    "    # Specify the layout of output Box\n",
    "    form_item_layout = Layout(\n",
    "        justify_content='space-around',\n",
    "        margin='2%'\n",
    "    )\n",
    "    # Define widgets by interactive and pack into the Box\n",
    "    form_items = [\n",
    "        VBox(children=interactive(\n",
    "            para, \n",
    "            {'manual': True}, \n",
    "            Benchmark=benchmarks, \n",
    "            Rounds=widgets.IntText(1), \n",
    "            Files=widgets.IntText(100), \n",
    "            Timeout=widgets.IntText(1), \n",
    "        ).children, layout=form_item_layout)\n",
    "    ]\n",
    "    # Insert items into Box and specify the layout\n",
    "    form = Box(form_items, layout=Layout(\n",
    "        display='flex',\n",
    "        flex_flow='column',\n",
    "        border='solid 1px',\n",
    "        align_items='stretch',\n",
    "        width='750px',\n",
    "        margin='1.3%'\n",
    "    ))\n",
    "    display(form)\n",
    "   \n",
    "\n",
    "if __name__ == '__main__':\n",
    "    _thread.start_new_thread(run_widget, ())\n"
   ]
  },
  {
   "cell_type": "code",
   "execution_count": null,
   "metadata": {
    "tags": []
   },
   "outputs": [],
   "source": []
  },
  {
   "cell_type": "code",
   "execution_count": null,
   "metadata": {},
   "outputs": [],
   "source": []
  }
 ],
 "metadata": {
  "kernelspec": {
   "display_name": "Python 3",
   "language": "python",
   "name": "python3"
  },
  "language_info": {
   "codemirror_mode": {
    "name": "ipython",
    "version": 3
   },
   "file_extension": ".py",
   "mimetype": "text/x-python",
   "name": "python",
   "nbconvert_exporter": "python",
   "pygments_lexer": "ipython3",
   "version": "3.7.3"
  }
 },
 "nbformat": 4,
 "nbformat_minor": 4
}
